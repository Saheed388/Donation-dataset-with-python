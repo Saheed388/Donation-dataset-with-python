{
 "cells": [
  {
   "cell_type": "code",
   "execution_count": 39,
   "id": "5fe64337",
   "metadata": {},
   "outputs": [],
   "source": [
    "import pandas as pd\n",
    "import numpy as np\n",
    "import matplotlib.pyplot as plt\n",
    "%matplotlib inline\n",
    "import seaborn as snb\n"
   ]
  },
  {
   "cell_type": "code",
   "execution_count": 2,
   "id": "e7643918",
   "metadata": {},
   "outputs": [],
   "source": [
    "dd =pd.read_csv(r'C:\\Users\\HP\\Documents\\my data list\\Entry Level SQL online data\\New\\donation_data nw.csv')"
   ]
  },
  {
   "cell_type": "code",
   "execution_count": 3,
   "id": "a7733f16",
   "metadata": {},
   "outputs": [],
   "source": [
    "drn = pd.read_csv(r'C:\\Users\\HP\\Documents\\my data list\\Entry Level SQL online data\\New\\donor_data new.csv')"
   ]
  },
  {
   "cell_type": "code",
   "execution_count": 4,
   "id": "9451f122",
   "metadata": {},
   "outputs": [
    {
     "data": {
      "text/html": [
       "<div>\n",
       "<style scoped>\n",
       "    .dataframe tbody tr th:only-of-type {\n",
       "        vertical-align: middle;\n",
       "    }\n",
       "\n",
       "    .dataframe tbody tr th {\n",
       "        vertical-align: top;\n",
       "    }\n",
       "\n",
       "    .dataframe thead th {\n",
       "        text-align: right;\n",
       "    }\n",
       "</style>\n",
       "<table border=\"1\" class=\"dataframe\">\n",
       "  <thead>\n",
       "    <tr style=\"text-align: right;\">\n",
       "      <th></th>\n",
       "      <th>id</th>\n",
       "      <th>fisst_name</th>\n",
       "      <th>last_name</th>\n",
       "      <th>email</th>\n",
       "      <th>gender</th>\n",
       "      <th>job_field</th>\n",
       "      <th>donations</th>\n",
       "      <th>state</th>\n",
       "      <th>shirt_size</th>\n",
       "    </tr>\n",
       "  </thead>\n",
       "  <tbody>\n",
       "    <tr>\n",
       "      <th>0</th>\n",
       "      <td>1</td>\n",
       "      <td>Nefen</td>\n",
       "      <td>Rogerson</td>\n",
       "      <td>nrogerson0@tumblr.com</td>\n",
       "      <td>Male</td>\n",
       "      <td>Human Resources</td>\n",
       "      <td>28</td>\n",
       "      <td>Colorado</td>\n",
       "      <td>3XL</td>\n",
       "    </tr>\n",
       "    <tr>\n",
       "      <th>1</th>\n",
       "      <td>2</td>\n",
       "      <td>Kippar</td>\n",
       "      <td>Saffin</td>\n",
       "      <td>ksaffin1@si.edu</td>\n",
       "      <td>Male</td>\n",
       "      <td>Human Resources</td>\n",
       "      <td>292</td>\n",
       "      <td>California</td>\n",
       "      <td>2XL</td>\n",
       "    </tr>\n",
       "    <tr>\n",
       "      <th>2</th>\n",
       "      <td>3</td>\n",
       "      <td>Panchito</td>\n",
       "      <td>Crichley</td>\n",
       "      <td>pcrichley2@wired.com</td>\n",
       "      <td>Female</td>\n",
       "      <td>Engineering</td>\n",
       "      <td>178</td>\n",
       "      <td>California</td>\n",
       "      <td>XL</td>\n",
       "    </tr>\n",
       "    <tr>\n",
       "      <th>3</th>\n",
       "      <td>4</td>\n",
       "      <td>Skippy</td>\n",
       "      <td>McTavy</td>\n",
       "      <td>smctavy3@friendfeed.com</td>\n",
       "      <td>Male</td>\n",
       "      <td>Sales</td>\n",
       "      <td>304</td>\n",
       "      <td>Illinois</td>\n",
       "      <td>S</td>\n",
       "    </tr>\n",
       "    <tr>\n",
       "      <th>4</th>\n",
       "      <td>5</td>\n",
       "      <td>Trudie</td>\n",
       "      <td>Codner</td>\n",
       "      <td>tcodner4@newyorker.com</td>\n",
       "      <td>Male</td>\n",
       "      <td>Business Development</td>\n",
       "      <td>219</td>\n",
       "      <td>Florida</td>\n",
       "      <td>M</td>\n",
       "    </tr>\n",
       "  </tbody>\n",
       "</table>\n",
       "</div>"
      ],
      "text/plain": [
       "   id fisst_name last_name                    email  gender  \\\n",
       "0   1      Nefen  Rogerson    nrogerson0@tumblr.com    Male   \n",
       "1   2     Kippar    Saffin          ksaffin1@si.edu    Male   \n",
       "2   3   Panchito  Crichley     pcrichley2@wired.com  Female   \n",
       "3   4     Skippy    McTavy  smctavy3@friendfeed.com    Male   \n",
       "4   5     Trudie    Codner   tcodner4@newyorker.com    Male   \n",
       "\n",
       "              job_field  donations       state shirt_size  \n",
       "0       Human Resources         28    Colorado        3XL  \n",
       "1       Human Resources        292  California        2XL  \n",
       "2           Engineering        178  California         XL  \n",
       "3                 Sales        304    Illinois          S  \n",
       "4  Business Development        219     Florida          M  "
      ]
     },
     "execution_count": 4,
     "metadata": {},
     "output_type": "execute_result"
    }
   ],
   "source": [
    "dd.head()"
   ]
  },
  {
   "cell_type": "code",
   "execution_count": 6,
   "id": "591a5038",
   "metadata": {
    "scrolled": false
   },
   "outputs": [
    {
     "data": {
      "text/html": [
       "<div>\n",
       "<style scoped>\n",
       "    .dataframe tbody tr th:only-of-type {\n",
       "        vertical-align: middle;\n",
       "    }\n",
       "\n",
       "    .dataframe tbody tr th {\n",
       "        vertical-align: top;\n",
       "    }\n",
       "\n",
       "    .dataframe thead th {\n",
       "        text-align: right;\n",
       "    }\n",
       "</style>\n",
       "<table border=\"1\" class=\"dataframe\">\n",
       "  <thead>\n",
       "    <tr style=\"text-align: right;\">\n",
       "      <th></th>\n",
       "      <th>id</th>\n",
       "      <th>donation_frequency</th>\n",
       "      <th>university</th>\n",
       "      <th>cars</th>\n",
       "      <th>second_language</th>\n",
       "      <th>Unnamed: 5</th>\n",
       "      <th>genre</th>\n",
       "    </tr>\n",
       "  </thead>\n",
       "  <tbody>\n",
       "    <tr>\n",
       "      <th>0</th>\n",
       "      <td>1</td>\n",
       "      <td>Weekly</td>\n",
       "      <td>McSparran</td>\n",
       "      <td>GMC</td>\n",
       "      <td>NaN</td>\n",
       "      <td>Teal</td>\n",
       "      <td>Comedy|Drama|Musical</td>\n",
       "    </tr>\n",
       "    <tr>\n",
       "      <th>1</th>\n",
       "      <td>2</td>\n",
       "      <td>Once</td>\n",
       "      <td>Ferrelli</td>\n",
       "      <td>Chrysler</td>\n",
       "      <td>Pashto</td>\n",
       "      <td>Green</td>\n",
       "      <td>Drama</td>\n",
       "    </tr>\n",
       "    <tr>\n",
       "      <th>2</th>\n",
       "      <td>3</td>\n",
       "      <td>Monthly</td>\n",
       "      <td>Ragsdall</td>\n",
       "      <td>Ford</td>\n",
       "      <td>NaN</td>\n",
       "      <td>Yellow</td>\n",
       "      <td>Comedy|Romance</td>\n",
       "    </tr>\n",
       "    <tr>\n",
       "      <th>3</th>\n",
       "      <td>4</td>\n",
       "      <td>Monthly</td>\n",
       "      <td>NaN</td>\n",
       "      <td>GMC</td>\n",
       "      <td>NaN</td>\n",
       "      <td>Puce</td>\n",
       "      <td>Action|Drama|Mystery|Sci-Fi|Thriller|IMAX</td>\n",
       "    </tr>\n",
       "    <tr>\n",
       "      <th>4</th>\n",
       "      <td>5</td>\n",
       "      <td>Weekly</td>\n",
       "      <td>Spitell</td>\n",
       "      <td>Suzuki</td>\n",
       "      <td>Swati</td>\n",
       "      <td>Purple</td>\n",
       "      <td>Children|Comedy|Fantasy|Romance</td>\n",
       "    </tr>\n",
       "  </tbody>\n",
       "</table>\n",
       "</div>"
      ],
      "text/plain": [
       "   id donation_frequency university      cars second_language Unnamed: 5  \\\n",
       "0   1             Weekly  McSparran       GMC             NaN       Teal   \n",
       "1   2               Once   Ferrelli  Chrysler          Pashto      Green   \n",
       "2   3            Monthly   Ragsdall      Ford             NaN     Yellow   \n",
       "3   4            Monthly        NaN       GMC             NaN       Puce   \n",
       "4   5             Weekly    Spitell    Suzuki           Swati     Purple   \n",
       "\n",
       "                                       genre  \n",
       "0                       Comedy|Drama|Musical  \n",
       "1                                      Drama  \n",
       "2                             Comedy|Romance  \n",
       "3  Action|Drama|Mystery|Sci-Fi|Thriller|IMAX  \n",
       "4            Children|Comedy|Fantasy|Romance  "
      ]
     },
     "execution_count": 6,
     "metadata": {},
     "output_type": "execute_result"
    }
   ],
   "source": [
    "drn.head()"
   ]
  },
  {
   "cell_type": "code",
   "execution_count": 5,
   "id": "78936078",
   "metadata": {
    "scrolled": true
   },
   "outputs": [
    {
     "data": {
      "text/plain": [
       "Index(['id', 'donation_frequency', 'university', 'cars', 'second_language',\n",
       "       'Unnamed: 5', 'genre'],\n",
       "      dtype='object')"
      ]
     },
     "execution_count": 5,
     "metadata": {},
     "output_type": "execute_result"
    }
   ],
   "source": [
    "drn.columns"
   ]
  },
  {
   "cell_type": "code",
   "execution_count": 8,
   "id": "10132e9d",
   "metadata": {
    "scrolled": true
   },
   "outputs": [
    {
     "data": {
      "text/html": [
       "<div>\n",
       "<style scoped>\n",
       "    .dataframe tbody tr th:only-of-type {\n",
       "        vertical-align: middle;\n",
       "    }\n",
       "\n",
       "    .dataframe tbody tr th {\n",
       "        vertical-align: top;\n",
       "    }\n",
       "\n",
       "    .dataframe thead th {\n",
       "        text-align: right;\n",
       "    }\n",
       "</style>\n",
       "<table border=\"1\" class=\"dataframe\">\n",
       "  <thead>\n",
       "    <tr style=\"text-align: right;\">\n",
       "      <th></th>\n",
       "      <th>id</th>\n",
       "      <th>donation_frequency</th>\n",
       "      <th>university</th>\n",
       "      <th>cars</th>\n",
       "      <th>second_language</th>\n",
       "      <th>Unnamed: 5</th>\n",
       "      <th>genre</th>\n",
       "    </tr>\n",
       "  </thead>\n",
       "  <tbody>\n",
       "    <tr>\n",
       "      <th>995</th>\n",
       "      <td>996</td>\n",
       "      <td>Once</td>\n",
       "      <td>Lister</td>\n",
       "      <td>Lexus</td>\n",
       "      <td>Punjabi</td>\n",
       "      <td>Green</td>\n",
       "      <td>Comedy</td>\n",
       "    </tr>\n",
       "    <tr>\n",
       "      <th>996</th>\n",
       "      <td>997</td>\n",
       "      <td>Weekly</td>\n",
       "      <td>Drain</td>\n",
       "      <td>Saab</td>\n",
       "      <td>NaN</td>\n",
       "      <td>Yellow</td>\n",
       "      <td>Drama|Fantasy|Romance</td>\n",
       "    </tr>\n",
       "    <tr>\n",
       "      <th>997</th>\n",
       "      <td>998</td>\n",
       "      <td>Yearly</td>\n",
       "      <td>Giblin</td>\n",
       "      <td>Land Rover</td>\n",
       "      <td>NaN</td>\n",
       "      <td>Puce</td>\n",
       "      <td>Crime|Drama</td>\n",
       "    </tr>\n",
       "    <tr>\n",
       "      <th>998</th>\n",
       "      <td>999</td>\n",
       "      <td>Weekly</td>\n",
       "      <td>Fancutt</td>\n",
       "      <td>Toyota</td>\n",
       "      <td>Kashmiri</td>\n",
       "      <td>Orange</td>\n",
       "      <td>Comedy|Drama|Romance|War</td>\n",
       "    </tr>\n",
       "    <tr>\n",
       "      <th>999</th>\n",
       "      <td>1000</td>\n",
       "      <td>Once</td>\n",
       "      <td>Mellonby</td>\n",
       "      <td>GMC</td>\n",
       "      <td>NaN</td>\n",
       "      <td>Puce</td>\n",
       "      <td>Drama|Romance|Western</td>\n",
       "    </tr>\n",
       "  </tbody>\n",
       "</table>\n",
       "</div>"
      ],
      "text/plain": [
       "       id donation_frequency university        cars second_language  \\\n",
       "995   996               Once     Lister       Lexus         Punjabi   \n",
       "996   997             Weekly      Drain        Saab             NaN   \n",
       "997   998             Yearly     Giblin  Land Rover             NaN   \n",
       "998   999             Weekly    Fancutt      Toyota        Kashmiri   \n",
       "999  1000               Once   Mellonby         GMC             NaN   \n",
       "\n",
       "    Unnamed: 5                     genre  \n",
       "995      Green                    Comedy  \n",
       "996     Yellow     Drama|Fantasy|Romance  \n",
       "997       Puce               Crime|Drama  \n",
       "998     Orange  Comedy|Drama|Romance|War  \n",
       "999       Puce     Drama|Romance|Western  "
      ]
     },
     "execution_count": 8,
     "metadata": {},
     "output_type": "execute_result"
    }
   ],
   "source": [
    "drn.tail()"
   ]
  },
  {
   "cell_type": "code",
   "execution_count": 9,
   "id": "af82b992",
   "metadata": {
    "scrolled": true
   },
   "outputs": [
    {
     "data": {
      "text/html": [
       "<div>\n",
       "<style scoped>\n",
       "    .dataframe tbody tr th:only-of-type {\n",
       "        vertical-align: middle;\n",
       "    }\n",
       "\n",
       "    .dataframe tbody tr th {\n",
       "        vertical-align: top;\n",
       "    }\n",
       "\n",
       "    .dataframe thead th {\n",
       "        text-align: right;\n",
       "    }\n",
       "</style>\n",
       "<table border=\"1\" class=\"dataframe\">\n",
       "  <thead>\n",
       "    <tr style=\"text-align: right;\">\n",
       "      <th></th>\n",
       "      <th>id</th>\n",
       "      <th>fisst_name</th>\n",
       "      <th>last_name</th>\n",
       "      <th>email</th>\n",
       "      <th>gender</th>\n",
       "      <th>job_field</th>\n",
       "      <th>donations</th>\n",
       "      <th>state</th>\n",
       "      <th>shirt_size</th>\n",
       "    </tr>\n",
       "  </thead>\n",
       "  <tbody>\n",
       "    <tr>\n",
       "      <th>995</th>\n",
       "      <td>996</td>\n",
       "      <td>Codie</td>\n",
       "      <td>Abdon</td>\n",
       "      <td>cabdonrn@google.co.jp</td>\n",
       "      <td>Male</td>\n",
       "      <td>Engineering</td>\n",
       "      <td>254</td>\n",
       "      <td>Virginia</td>\n",
       "      <td>XS</td>\n",
       "    </tr>\n",
       "    <tr>\n",
       "      <th>996</th>\n",
       "      <td>997</td>\n",
       "      <td>Gaylene</td>\n",
       "      <td>Brannan</td>\n",
       "      <td>gbrannanro@marriott.com</td>\n",
       "      <td>Male</td>\n",
       "      <td>Accounting</td>\n",
       "      <td>68</td>\n",
       "      <td>New York</td>\n",
       "      <td>S</td>\n",
       "    </tr>\n",
       "    <tr>\n",
       "      <th>997</th>\n",
       "      <td>998</td>\n",
       "      <td>Erinna</td>\n",
       "      <td>Ghilardini</td>\n",
       "      <td>eghilardinirp@ovh.net</td>\n",
       "      <td>Female</td>\n",
       "      <td>Sales</td>\n",
       "      <td>105</td>\n",
       "      <td>Florida</td>\n",
       "      <td>XS</td>\n",
       "    </tr>\n",
       "    <tr>\n",
       "      <th>998</th>\n",
       "      <td>999</td>\n",
       "      <td>Inga</td>\n",
       "      <td>Dragon</td>\n",
       "      <td>idragonrq@bloomberg.com</td>\n",
       "      <td>Female</td>\n",
       "      <td>Research and Development</td>\n",
       "      <td>165</td>\n",
       "      <td>Virginia</td>\n",
       "      <td>XS</td>\n",
       "    </tr>\n",
       "    <tr>\n",
       "      <th>999</th>\n",
       "      <td>1000</td>\n",
       "      <td>Kellina</td>\n",
       "      <td>Eastcourt</td>\n",
       "      <td>keastcourtrr@mapy.cz</td>\n",
       "      <td>Female</td>\n",
       "      <td>Support</td>\n",
       "      <td>482</td>\n",
       "      <td>Massachusetts</td>\n",
       "      <td>3XL</td>\n",
       "    </tr>\n",
       "  </tbody>\n",
       "</table>\n",
       "</div>"
      ],
      "text/plain": [
       "       id fisst_name   last_name                    email  gender  \\\n",
       "995   996      Codie       Abdon    cabdonrn@google.co.jp    Male   \n",
       "996   997    Gaylene     Brannan  gbrannanro@marriott.com    Male   \n",
       "997   998     Erinna  Ghilardini    eghilardinirp@ovh.net  Female   \n",
       "998   999       Inga      Dragon  idragonrq@bloomberg.com  Female   \n",
       "999  1000    Kellina   Eastcourt     keastcourtrr@mapy.cz  Female   \n",
       "\n",
       "                    job_field  donations          state shirt_size  \n",
       "995               Engineering        254       Virginia         XS  \n",
       "996                Accounting         68       New York          S  \n",
       "997                     Sales        105        Florida         XS  \n",
       "998  Research and Development        165       Virginia         XS  \n",
       "999                   Support        482  Massachusetts        3XL  "
      ]
     },
     "execution_count": 9,
     "metadata": {},
     "output_type": "execute_result"
    }
   ],
   "source": [
    "dd.tail()"
   ]
  },
  {
   "cell_type": "code",
   "execution_count": 6,
   "id": "b39d1b3e",
   "metadata": {
    "scrolled": false
   },
   "outputs": [
    {
     "data": {
      "text/plain": [
       "gender\n",
       "Female    508\n",
       "Male      492\n",
       "Name: donations, dtype: int64"
      ]
     },
     "execution_count": 6,
     "metadata": {},
     "output_type": "execute_result"
    }
   ],
   "source": [
    " dd.groupby('gender').donations.count()"
   ]
  },
  {
   "cell_type": "markdown",
   "id": "c4089a34",
   "metadata": {},
   "source": [
    "TOTAL AMOUNT OF DONATION"
   ]
  },
  {
   "cell_type": "code",
   "execution_count": 11,
   "id": "f2fb24e4",
   "metadata": {
    "scrolled": false
   },
   "outputs": [
    {
     "data": {
      "text/plain": [
       "249085"
      ]
     },
     "execution_count": 11,
     "metadata": {},
     "output_type": "execute_result"
    }
   ],
   "source": [
    "dd['donations'].sum()"
   ]
  },
  {
   "cell_type": "markdown",
   "id": "7c70d5b4",
   "metadata": {},
   "source": [
    "Total donation by each gender"
   ]
  },
  {
   "cell_type": "code",
   "execution_count": 12,
   "id": "6e3adcf4",
   "metadata": {
    "scrolled": true
   },
   "outputs": [
    {
     "data": {
      "text/plain": [
       "gender\n",
       "Female    121457\n",
       "Male      127628\n",
       "Name: donations, dtype: int64"
      ]
     },
     "execution_count": 12,
     "metadata": {},
     "output_type": "execute_result"
    }
   ],
   "source": [
    "dd.groupby(['gender']).donations.sum()"
   ]
  },
  {
   "cell_type": "markdown",
   "id": "899baaad",
   "metadata": {},
   "source": [
    "Total amount donated by each job field"
   ]
  },
  {
   "cell_type": "code",
   "execution_count": 13,
   "id": "6aadab08",
   "metadata": {
    "scrolled": true
   },
   "outputs": [
    {
     "name": "stdout",
     "output_type": "stream",
     "text": [
      "job_field\n",
      "Human Resources             23060\n",
      "Research and Development    22862\n",
      "Product Management          22798\n",
      "Business Development        22266\n",
      "Engineering                 21968\n",
      "Training                    21721\n",
      "Accounting                  20504\n",
      "Services                    19858\n",
      "Support                     19475\n",
      "Sales                       19009\n",
      "Marketing                   18255\n",
      "Legal                       17309\n",
      "Name: donations, dtype: int64\n"
     ]
    }
   ],
   "source": [
    "Total_amount_donated=dd.groupby('job_field')['donations'].sum().sort_values(ascending =False)\n",
    "print(Total_amount_donated)"
   ]
  },
  {
   "cell_type": "markdown",
   "id": "01727684",
   "metadata": {},
   "source": [
    "AMOUNT DONATED BY EACH GENDER AND THEIR  JOB FIELD"
   ]
  },
  {
   "cell_type": "code",
   "execution_count": 14,
   "id": "d7a14133",
   "metadata": {
    "scrolled": true
   },
   "outputs": [
    {
     "data": {
      "text/plain": [
       "job_field                 gender\n",
       "Accounting                Female    11488\n",
       "                          Male       9016\n",
       "Business Development      Female     9774\n",
       "                          Male      12492\n",
       "Engineering               Female    12437\n",
       "                          Male       9531\n",
       "Human Resources           Female     9684\n",
       "                          Male      13376\n",
       "Legal                     Female     8797\n",
       "                          Male       8512\n",
       "Marketing                 Female    10730\n",
       "                          Male       7525\n",
       "Product Management        Female     9157\n",
       "                          Male      13641\n",
       "Research and Development  Female    10522\n",
       "                          Male      12340\n",
       "Sales                     Female    11230\n",
       "                          Male       7779\n",
       "Services                  Female     7605\n",
       "                          Male      12253\n",
       "Support                   Female     8695\n",
       "                          Male      10780\n",
       "Training                  Female    11338\n",
       "                          Male      10383\n",
       "Name: donations, dtype: int64"
      ]
     },
     "execution_count": 14,
     "metadata": {},
     "output_type": "execute_result"
    }
   ],
   "source": [
    "dd.groupby(['job_field', 'gender']).donations.sum()\n"
   ]
  },
  {
   "cell_type": "code",
   "execution_count": 15,
   "id": "6e805836",
   "metadata": {
    "scrolled": false
   },
   "outputs": [
    {
     "data": {
      "text/plain": [
       "job_field\n",
       "Accounting                  80\n",
       "Business Development        94\n",
       "Engineering                 93\n",
       "Human Resources             93\n",
       "Legal                       66\n",
       "Marketing                   74\n",
       "Product Management          90\n",
       "Research and Development    84\n",
       "Sales                       83\n",
       "Services                    80\n",
       "Support                     79\n",
       "Training                    84\n",
       "Name: donations, dtype: int64"
      ]
     },
     "execution_count": 15,
     "metadata": {},
     "output_type": "execute_result"
    }
   ],
   "source": [
    " dd.groupby('job_field').donations.count()"
   ]
  },
  {
   "cell_type": "markdown",
   "id": "7bab6e29",
   "metadata": {},
   "source": [
    "LOWEST 10 DORNO\n"
   ]
  },
  {
   "cell_type": "code",
   "execution_count": 16,
   "id": "c04e9807",
   "metadata": {
    "scrolled": false
   },
   "outputs": [
    {
     "data": {
      "text/html": [
       "<div>\n",
       "<style scoped>\n",
       "    .dataframe tbody tr th:only-of-type {\n",
       "        vertical-align: middle;\n",
       "    }\n",
       "\n",
       "    .dataframe tbody tr th {\n",
       "        vertical-align: top;\n",
       "    }\n",
       "\n",
       "    .dataframe thead th {\n",
       "        text-align: right;\n",
       "    }\n",
       "</style>\n",
       "<table border=\"1\" class=\"dataframe\">\n",
       "  <thead>\n",
       "    <tr style=\"text-align: right;\">\n",
       "      <th></th>\n",
       "      <th>id</th>\n",
       "      <th>fisst_name</th>\n",
       "      <th>last_name</th>\n",
       "      <th>email</th>\n",
       "      <th>gender</th>\n",
       "      <th>job_field</th>\n",
       "      <th>donations</th>\n",
       "      <th>state</th>\n",
       "      <th>shirt_size</th>\n",
       "    </tr>\n",
       "  </thead>\n",
       "  <tbody>\n",
       "    <tr>\n",
       "      <th>825</th>\n",
       "      <td>826</td>\n",
       "      <td>Mavis</td>\n",
       "      <td>Tayspell</td>\n",
       "      <td>mtayspellmx@behance.net</td>\n",
       "      <td>Male</td>\n",
       "      <td>Engineering</td>\n",
       "      <td>5</td>\n",
       "      <td>Oklahoma</td>\n",
       "      <td>S</td>\n",
       "    </tr>\n",
       "    <tr>\n",
       "      <th>844</th>\n",
       "      <td>845</td>\n",
       "      <td>Pet</td>\n",
       "      <td>Bacon</td>\n",
       "      <td>pbaconng@dagondesign.com</td>\n",
       "      <td>Female</td>\n",
       "      <td>Human Resources</td>\n",
       "      <td>5</td>\n",
       "      <td>Alabama</td>\n",
       "      <td>XS</td>\n",
       "    </tr>\n",
       "    <tr>\n",
       "      <th>117</th>\n",
       "      <td>118</td>\n",
       "      <td>Yevette</td>\n",
       "      <td>Dodimead</td>\n",
       "      <td>ydodimead39@drupal.org</td>\n",
       "      <td>Male</td>\n",
       "      <td>Engineering</td>\n",
       "      <td>6</td>\n",
       "      <td>California</td>\n",
       "      <td>S</td>\n",
       "    </tr>\n",
       "    <tr>\n",
       "      <th>657</th>\n",
       "      <td>658</td>\n",
       "      <td>Garrek</td>\n",
       "      <td>Wicklen</td>\n",
       "      <td>gwickleni9@howstuffworks.com</td>\n",
       "      <td>Female</td>\n",
       "      <td>Business Development</td>\n",
       "      <td>6</td>\n",
       "      <td>Missouri</td>\n",
       "      <td>XS</td>\n",
       "    </tr>\n",
       "    <tr>\n",
       "      <th>678</th>\n",
       "      <td>679</td>\n",
       "      <td>Sherwin</td>\n",
       "      <td>Stevenson</td>\n",
       "      <td>sstevensoniu@yahoo.com</td>\n",
       "      <td>Female</td>\n",
       "      <td>Human Resources</td>\n",
       "      <td>6</td>\n",
       "      <td>California</td>\n",
       "      <td>2XL</td>\n",
       "    </tr>\n",
       "    <tr>\n",
       "      <th>691</th>\n",
       "      <td>692</td>\n",
       "      <td>Alain</td>\n",
       "      <td>Rothwell</td>\n",
       "      <td>arothwellj7@dell.com</td>\n",
       "      <td>Male</td>\n",
       "      <td>Services</td>\n",
       "      <td>6</td>\n",
       "      <td>Colorado</td>\n",
       "      <td>2XL</td>\n",
       "    </tr>\n",
       "    <tr>\n",
       "      <th>887</th>\n",
       "      <td>888</td>\n",
       "      <td>Sigmund</td>\n",
       "      <td>Rudge</td>\n",
       "      <td>srudgeon@uol.com.br</td>\n",
       "      <td>Male</td>\n",
       "      <td>Engineering</td>\n",
       "      <td>6</td>\n",
       "      <td>North Carolina</td>\n",
       "      <td>L</td>\n",
       "    </tr>\n",
       "    <tr>\n",
       "      <th>711</th>\n",
       "      <td>712</td>\n",
       "      <td>Matthiew</td>\n",
       "      <td>Cubitt</td>\n",
       "      <td>mcubittjr@twitter.com</td>\n",
       "      <td>Female</td>\n",
       "      <td>Product Management</td>\n",
       "      <td>7</td>\n",
       "      <td>Texas</td>\n",
       "      <td>L</td>\n",
       "    </tr>\n",
       "    <tr>\n",
       "      <th>782</th>\n",
       "      <td>783</td>\n",
       "      <td>Marline</td>\n",
       "      <td>Merrington</td>\n",
       "      <td>mmerringtonlq@nba.com</td>\n",
       "      <td>Female</td>\n",
       "      <td>Product Management</td>\n",
       "      <td>7</td>\n",
       "      <td>Florida</td>\n",
       "      <td>XL</td>\n",
       "    </tr>\n",
       "    <tr>\n",
       "      <th>839</th>\n",
       "      <td>840</td>\n",
       "      <td>Korie</td>\n",
       "      <td>Hourston</td>\n",
       "      <td>khourstonnb@patch.com</td>\n",
       "      <td>Female</td>\n",
       "      <td>Product Management</td>\n",
       "      <td>7</td>\n",
       "      <td>Ohio</td>\n",
       "      <td>L</td>\n",
       "    </tr>\n",
       "  </tbody>\n",
       "</table>\n",
       "</div>"
      ],
      "text/plain": [
       "      id fisst_name   last_name                         email  gender  \\\n",
       "825  826      Mavis    Tayspell       mtayspellmx@behance.net    Male   \n",
       "844  845        Pet       Bacon      pbaconng@dagondesign.com  Female   \n",
       "117  118    Yevette    Dodimead        ydodimead39@drupal.org    Male   \n",
       "657  658     Garrek     Wicklen  gwickleni9@howstuffworks.com  Female   \n",
       "678  679    Sherwin   Stevenson        sstevensoniu@yahoo.com  Female   \n",
       "691  692      Alain    Rothwell          arothwellj7@dell.com    Male   \n",
       "887  888    Sigmund       Rudge           srudgeon@uol.com.br    Male   \n",
       "711  712   Matthiew      Cubitt         mcubittjr@twitter.com  Female   \n",
       "782  783    Marline  Merrington         mmerringtonlq@nba.com  Female   \n",
       "839  840      Korie    Hourston         khourstonnb@patch.com  Female   \n",
       "\n",
       "                job_field  donations           state shirt_size  \n",
       "825           Engineering          5        Oklahoma          S  \n",
       "844       Human Resources          5         Alabama         XS  \n",
       "117           Engineering          6      California          S  \n",
       "657  Business Development          6        Missouri         XS  \n",
       "678       Human Resources          6      California        2XL  \n",
       "691              Services          6        Colorado        2XL  \n",
       "887           Engineering          6  North Carolina          L  \n",
       "711    Product Management          7           Texas          L  \n",
       "782    Product Management          7         Florida         XL  \n",
       "839    Product Management          7            Ohio          L  "
      ]
     },
     "execution_count": 16,
     "metadata": {},
     "output_type": "execute_result"
    }
   ],
   "source": [
    "dd.nsmallest(n=10, columns=['donations'])\n"
   ]
  },
  {
   "cell_type": "markdown",
   "id": "d75b8ae5",
   "metadata": {},
   "source": [
    "TOP 10 DORNOR"
   ]
  },
  {
   "cell_type": "code",
   "execution_count": 17,
   "id": "bca9b02f",
   "metadata": {
    "scrolled": false
   },
   "outputs": [
    {
     "data": {
      "text/html": [
       "<div>\n",
       "<style scoped>\n",
       "    .dataframe tbody tr th:only-of-type {\n",
       "        vertical-align: middle;\n",
       "    }\n",
       "\n",
       "    .dataframe tbody tr th {\n",
       "        vertical-align: top;\n",
       "    }\n",
       "\n",
       "    .dataframe thead th {\n",
       "        text-align: right;\n",
       "    }\n",
       "</style>\n",
       "<table border=\"1\" class=\"dataframe\">\n",
       "  <thead>\n",
       "    <tr style=\"text-align: right;\">\n",
       "      <th></th>\n",
       "      <th>id</th>\n",
       "      <th>fisst_name</th>\n",
       "      <th>last_name</th>\n",
       "      <th>email</th>\n",
       "      <th>gender</th>\n",
       "      <th>job_field</th>\n",
       "      <th>donations</th>\n",
       "      <th>state</th>\n",
       "      <th>shirt_size</th>\n",
       "    </tr>\n",
       "  </thead>\n",
       "  <tbody>\n",
       "    <tr>\n",
       "      <th>138</th>\n",
       "      <td>139</td>\n",
       "      <td>Beverlie</td>\n",
       "      <td>Andriesse</td>\n",
       "      <td>bandriesse3u@squidoo.com</td>\n",
       "      <td>Male</td>\n",
       "      <td>Support</td>\n",
       "      <td>500</td>\n",
       "      <td>Michigan</td>\n",
       "      <td>S</td>\n",
       "    </tr>\n",
       "    <tr>\n",
       "      <th>263</th>\n",
       "      <td>264</td>\n",
       "      <td>Wallie</td>\n",
       "      <td>Leather</td>\n",
       "      <td>wleather7b@taobao.com</td>\n",
       "      <td>Male</td>\n",
       "      <td>Product Management</td>\n",
       "      <td>500</td>\n",
       "      <td>New York</td>\n",
       "      <td>3XL</td>\n",
       "    </tr>\n",
       "    <tr>\n",
       "      <th>34</th>\n",
       "      <td>35</td>\n",
       "      <td>Clevie</td>\n",
       "      <td>Camilletti</td>\n",
       "      <td>ccamillettiy@quantcast.com</td>\n",
       "      <td>Female</td>\n",
       "      <td>Legal</td>\n",
       "      <td>499</td>\n",
       "      <td>Virginia</td>\n",
       "      <td>S</td>\n",
       "    </tr>\n",
       "    <tr>\n",
       "      <th>768</th>\n",
       "      <td>769</td>\n",
       "      <td>Peder</td>\n",
       "      <td>Rilton</td>\n",
       "      <td>priltonlc@trellian.com</td>\n",
       "      <td>Female</td>\n",
       "      <td>Sales</td>\n",
       "      <td>499</td>\n",
       "      <td>Delaware</td>\n",
       "      <td>L</td>\n",
       "    </tr>\n",
       "    <tr>\n",
       "      <th>479</th>\n",
       "      <td>480</td>\n",
       "      <td>Worthy</td>\n",
       "      <td>Le feaver</td>\n",
       "      <td>wlefeaverdb@edublogs.org</td>\n",
       "      <td>Male</td>\n",
       "      <td>Sales</td>\n",
       "      <td>498</td>\n",
       "      <td>Wisconsin</td>\n",
       "      <td>XL</td>\n",
       "    </tr>\n",
       "    <tr>\n",
       "      <th>964</th>\n",
       "      <td>965</td>\n",
       "      <td>Amalea</td>\n",
       "      <td>Knill</td>\n",
       "      <td>aknillqs@devhub.com</td>\n",
       "      <td>Male</td>\n",
       "      <td>Research and Development</td>\n",
       "      <td>497</td>\n",
       "      <td>New York</td>\n",
       "      <td>2XL</td>\n",
       "    </tr>\n",
       "    <tr>\n",
       "      <th>75</th>\n",
       "      <td>76</td>\n",
       "      <td>Tonnie</td>\n",
       "      <td>Stockney</td>\n",
       "      <td>tstockney23@examiner.com</td>\n",
       "      <td>Male</td>\n",
       "      <td>Support</td>\n",
       "      <td>494</td>\n",
       "      <td>California</td>\n",
       "      <td>2XL</td>\n",
       "    </tr>\n",
       "    <tr>\n",
       "      <th>499</th>\n",
       "      <td>500</td>\n",
       "      <td>Corbett</td>\n",
       "      <td>Lansdale</td>\n",
       "      <td>clansdaledv@ovh.net</td>\n",
       "      <td>Female</td>\n",
       "      <td>Product Management</td>\n",
       "      <td>494</td>\n",
       "      <td>California</td>\n",
       "      <td>3XL</td>\n",
       "    </tr>\n",
       "    <tr>\n",
       "      <th>968</th>\n",
       "      <td>969</td>\n",
       "      <td>Nathaniel</td>\n",
       "      <td>McGenn</td>\n",
       "      <td>nmcgennqw@nih.gov</td>\n",
       "      <td>Male</td>\n",
       "      <td>Human Resources</td>\n",
       "      <td>494</td>\n",
       "      <td>California</td>\n",
       "      <td>2XL</td>\n",
       "    </tr>\n",
       "    <tr>\n",
       "      <th>564</th>\n",
       "      <td>565</td>\n",
       "      <td>Beverlee</td>\n",
       "      <td>Camacke</td>\n",
       "      <td>bcamackefo@cloudflare.com</td>\n",
       "      <td>Male</td>\n",
       "      <td>Product Management</td>\n",
       "      <td>493</td>\n",
       "      <td>Maryland</td>\n",
       "      <td>L</td>\n",
       "    </tr>\n",
       "  </tbody>\n",
       "</table>\n",
       "</div>"
      ],
      "text/plain": [
       "      id fisst_name   last_name                       email  gender  \\\n",
       "138  139   Beverlie   Andriesse    bandriesse3u@squidoo.com    Male   \n",
       "263  264     Wallie     Leather       wleather7b@taobao.com    Male   \n",
       "34    35     Clevie  Camilletti  ccamillettiy@quantcast.com  Female   \n",
       "768  769      Peder      Rilton      priltonlc@trellian.com  Female   \n",
       "479  480     Worthy   Le feaver    wlefeaverdb@edublogs.org    Male   \n",
       "964  965     Amalea       Knill         aknillqs@devhub.com    Male   \n",
       "75    76     Tonnie    Stockney    tstockney23@examiner.com    Male   \n",
       "499  500    Corbett    Lansdale         clansdaledv@ovh.net  Female   \n",
       "968  969  Nathaniel      McGenn           nmcgennqw@nih.gov    Male   \n",
       "564  565   Beverlee     Camacke   bcamackefo@cloudflare.com    Male   \n",
       "\n",
       "                    job_field  donations       state shirt_size  \n",
       "138                   Support        500    Michigan          S  \n",
       "263        Product Management        500    New York        3XL  \n",
       "34                      Legal        499    Virginia          S  \n",
       "768                     Sales        499    Delaware          L  \n",
       "479                     Sales        498   Wisconsin         XL  \n",
       "964  Research and Development        497    New York        2XL  \n",
       "75                    Support        494  California        2XL  \n",
       "499        Product Management        494  California        3XL  \n",
       "968           Human Resources        494  California        2XL  \n",
       "564        Product Management        493    Maryland          L  "
      ]
     },
     "execution_count": 17,
     "metadata": {},
     "output_type": "execute_result"
    }
   ],
   "source": [
    "dd.nlargest(n=10, columns=['donations'])\n"
   ]
  },
  {
   "cell_type": "markdown",
   "id": "1b99da50",
   "metadata": {},
   "source": [
    "TOP 10 MALE and FEMALE DORNO"
   ]
  },
  {
   "cell_type": "code",
   "execution_count": 19,
   "id": "1ac40792",
   "metadata": {
    "scrolled": true
   },
   "outputs": [
    {
     "data": {
      "text/plain": [
       "gender     \n",
       "Female  34     499\n",
       "        768    499\n",
       "        499    494\n",
       "        289    492\n",
       "        728    492\n",
       "        295    491\n",
       "        764    490\n",
       "        89     489\n",
       "        250    488\n",
       "        458    487\n",
       "Male    138    500\n",
       "        263    500\n",
       "        479    498\n",
       "        964    497\n",
       "        75     494\n",
       "        968    494\n",
       "        564    493\n",
       "        940    493\n",
       "        152    491\n",
       "        202    489\n",
       "Name: donations, dtype: int64"
      ]
     },
     "execution_count": 19,
     "metadata": {},
     "output_type": "execute_result"
    }
   ],
   "source": [
    "dd.groupby('gender')['donations'].nlargest(10)"
   ]
  },
  {
   "cell_type": "markdown",
   "id": "3b4a0273",
   "metadata": {},
   "source": [
    "SUM OF DONATION FROM EACH STATE"
   ]
  },
  {
   "cell_type": "code",
   "execution_count": 20,
   "id": "46a8a410",
   "metadata": {
    "scrolled": false
   },
   "outputs": [
    {
     "data": {
      "text/plain": [
       "state\n",
       "California              30264\n",
       "Texas                   24097\n",
       "Florida                 20562\n",
       "New York                14759\n",
       "Virginia                10750\n",
       "Illinois                 8674\n",
       "District of Columbia     8376\n",
       "Tennessee                8316\n",
       "Georgia                  8046\n",
       "Ohio                     6876\n",
       "Pennsylvania             6574\n",
       "North Carolina           6328\n",
       "Nevada                   5935\n",
       "Michigan                 5690\n",
       "Missouri                 5647\n",
       "Massachusetts            5385\n",
       "Louisiana                5191\n",
       "Oklahoma                 5126\n",
       "Colorado                 4437\n",
       "Indiana                  4079\n",
       "Iowa                     3866\n",
       "Kentucky                 3469\n",
       "Minnesota                3465\n",
       "Washington               3427\n",
       "Arizona                  3155\n",
       "Utah                     2901\n",
       "Connecticut              2882\n",
       "Arkansas                 2837\n",
       "Maryland                 2773\n",
       "Wisconsin                2591\n",
       "Oregon                   2406\n",
       "Kansas                   2371\n",
       "New Mexico               2129\n",
       "Nebraska                 1871\n",
       "Delaware                 1569\n",
       "Alabama                  1446\n",
       "Idaho                    1435\n",
       "Mississippi              1391\n",
       "New Jersey               1376\n",
       "Montana                  1009\n",
       "Hawaii                    875\n",
       "New Hampshire             841\n",
       "South Carolina            819\n",
       "West Virginia             793\n",
       "Alaska                    734\n",
       "North Dakota              651\n",
       "South Dakota              401\n",
       "Maine                     258\n",
       "Wyoming                   232\n",
       "Name: donations, dtype: int64"
      ]
     },
     "execution_count": 20,
     "metadata": {},
     "output_type": "execute_result"
    }
   ],
   "source": [
    "dd.groupby('state').donations.sum().sort_values(ascending =False) "
   ]
  },
  {
   "cell_type": "markdown",
   "id": "462cbbf6",
   "metadata": {},
   "source": [
    "TOP 10 STATE WITH HIGEST DORNO"
   ]
  },
  {
   "cell_type": "code",
   "execution_count": 22,
   "id": "76d41e3d",
   "metadata": {
    "scrolled": false
   },
   "outputs": [
    {
     "data": {
      "text/plain": [
       "state\n",
       "California              30264\n",
       "Texas                   24097\n",
       "Florida                 20562\n",
       "New York                14759\n",
       "Virginia                10750\n",
       "Illinois                 8674\n",
       "District of Columbia     8376\n",
       "Tennessee                8316\n",
       "Georgia                  8046\n",
       "Ohio                     6876\n",
       "Name: donations, dtype: int64"
      ]
     },
     "execution_count": 22,
     "metadata": {},
     "output_type": "execute_result"
    }
   ],
   "source": [
    "dd.groupby('state')['donations'].sum().nlargest(10)"
   ]
  },
  {
   "cell_type": "markdown",
   "id": "2c1a0f6b",
   "metadata": {},
   "source": [
    "AVERAGE DONATIONS FROM EACH GENDER"
   ]
  },
  {
   "cell_type": "code",
   "execution_count": 24,
   "id": "ea3449cc",
   "metadata": {
    "scrolled": true
   },
   "outputs": [
    {
     "data": {
      "text/plain": [
       "gender\n",
       "Female    239.088583\n",
       "Male      259.406504\n",
       "Name: donations, dtype: float64"
      ]
     },
     "execution_count": 24,
     "metadata": {},
     "output_type": "execute_result"
    }
   ],
   "source": [
    "dd.groupby('gender').donations.mean()"
   ]
  },
  {
   "cell_type": "markdown",
   "id": "6fb05ca1",
   "metadata": {},
   "source": [
    "The count of donor group by state"
   ]
  },
  {
   "cell_type": "code",
   "execution_count": 25,
   "id": "233854ea",
   "metadata": {
    "scrolled": true
   },
   "outputs": [
    {
     "data": {
      "text/plain": [
       "state\n",
       "California              113\n",
       "Texas                    95\n",
       "Florida                  90\n",
       "New York                 58\n",
       "Virginia                 39\n",
       "Illinois                 34\n",
       "Georgia                  33\n",
       "North Carolina           33\n",
       "Ohio                     32\n",
       "District of Columbia     30\n",
       "Tennessee                30\n",
       "Missouri                 23\n",
       "Pennsylvania             23\n",
       "Colorado                 22\n",
       "Nevada                   22\n",
       "Louisiana                22\n",
       "Oklahoma                 20\n",
       "Michigan                 20\n",
       "Washington               17\n",
       "Massachusetts            17\n",
       "Indiana                  17\n",
       "Kentucky                 15\n",
       "Minnesota                14\n",
       "Arizona                  14\n",
       "Iowa                     13\n",
       "Wisconsin                12\n",
       "Connecticut              12\n",
       "Alabama                  11\n",
       "Maryland                 11\n",
       "Kansas                   10\n",
       "Utah                      9\n",
       "Oregon                    9\n",
       "Arkansas                  9\n",
       "Nebraska                  8\n",
       "New Mexico                7\n",
       "Idaho                     7\n",
       "Delaware                  7\n",
       "New Jersey                6\n",
       "West Virginia             6\n",
       "South Carolina            6\n",
       "Mississippi               5\n",
       "Montana                   4\n",
       "Hawaii                    4\n",
       "New Hampshire             3\n",
       "Alaska                    3\n",
       "North Dakota              2\n",
       "South Dakota              1\n",
       "Maine                     1\n",
       "Wyoming                   1\n",
       "Name: donations, dtype: int64"
      ]
     },
     "execution_count": 25,
     "metadata": {},
     "output_type": "execute_result"
    }
   ],
   "source": [
    "dd.groupby('state')['donations'].count().sort_values(ascending =False) "
   ]
  },
  {
   "cell_type": "markdown",
   "id": "55a428dd",
   "metadata": {},
   "source": [
    "The count of donor group by state"
   ]
  },
  {
   "cell_type": "code",
   "execution_count": 26,
   "id": "ad63c062",
   "metadata": {
    "scrolled": true
   },
   "outputs": [
    {
     "data": {
      "text/plain": [
       "job_field\n",
       "Business Development        94\n",
       "Engineering                 93\n",
       "Human Resources             93\n",
       "Product Management          90\n",
       "Research and Development    84\n",
       "Training                    84\n",
       "Sales                       83\n",
       "Accounting                  80\n",
       "Services                    80\n",
       "Support                     79\n",
       "Marketing                   74\n",
       "Legal                       66\n",
       "Name: donations, dtype: int64"
      ]
     },
     "execution_count": 26,
     "metadata": {},
     "output_type": "execute_result"
    }
   ],
   "source": [
    "dd.groupby('job_field')['donations'].count().sort_values(ascending =False) "
   ]
  },
  {
   "cell_type": "code",
   "execution_count": 7,
   "id": "99087288",
   "metadata": {},
   "outputs": [],
   "source": [
    "inner_join =dd.merge(drn, on='id', how='inner')"
   ]
  },
  {
   "cell_type": "code",
   "execution_count": 28,
   "id": "79f4924c",
   "metadata": {},
   "outputs": [
    {
     "data": {
      "text/html": [
       "<div>\n",
       "<style scoped>\n",
       "    .dataframe tbody tr th:only-of-type {\n",
       "        vertical-align: middle;\n",
       "    }\n",
       "\n",
       "    .dataframe tbody tr th {\n",
       "        vertical-align: top;\n",
       "    }\n",
       "\n",
       "    .dataframe thead th {\n",
       "        text-align: right;\n",
       "    }\n",
       "</style>\n",
       "<table border=\"1\" class=\"dataframe\">\n",
       "  <thead>\n",
       "    <tr style=\"text-align: right;\">\n",
       "      <th></th>\n",
       "      <th>id</th>\n",
       "      <th>fisst_name</th>\n",
       "      <th>last_name</th>\n",
       "      <th>email</th>\n",
       "      <th>gender</th>\n",
       "      <th>job_field</th>\n",
       "      <th>donations</th>\n",
       "      <th>state</th>\n",
       "      <th>shirt_size</th>\n",
       "      <th>donation_frequency</th>\n",
       "      <th>university</th>\n",
       "      <th>cars</th>\n",
       "      <th>second_language</th>\n",
       "      <th>Unnamed: 5</th>\n",
       "      <th>genre</th>\n",
       "    </tr>\n",
       "  </thead>\n",
       "  <tbody>\n",
       "    <tr>\n",
       "      <th>0</th>\n",
       "      <td>1</td>\n",
       "      <td>Nefen</td>\n",
       "      <td>Rogerson</td>\n",
       "      <td>nrogerson0@tumblr.com</td>\n",
       "      <td>Male</td>\n",
       "      <td>Human Resources</td>\n",
       "      <td>28</td>\n",
       "      <td>Colorado</td>\n",
       "      <td>3XL</td>\n",
       "      <td>Weekly</td>\n",
       "      <td>McSparran</td>\n",
       "      <td>GMC</td>\n",
       "      <td>NaN</td>\n",
       "      <td>Teal</td>\n",
       "      <td>Comedy|Drama|Musical</td>\n",
       "    </tr>\n",
       "    <tr>\n",
       "      <th>1</th>\n",
       "      <td>2</td>\n",
       "      <td>Kippar</td>\n",
       "      <td>Saffin</td>\n",
       "      <td>ksaffin1@si.edu</td>\n",
       "      <td>Male</td>\n",
       "      <td>Human Resources</td>\n",
       "      <td>292</td>\n",
       "      <td>California</td>\n",
       "      <td>2XL</td>\n",
       "      <td>Once</td>\n",
       "      <td>Ferrelli</td>\n",
       "      <td>Chrysler</td>\n",
       "      <td>Pashto</td>\n",
       "      <td>Green</td>\n",
       "      <td>Drama</td>\n",
       "    </tr>\n",
       "  </tbody>\n",
       "</table>\n",
       "</div>"
      ],
      "text/plain": [
       "   id fisst_name last_name                  email gender        job_field  \\\n",
       "0   1      Nefen  Rogerson  nrogerson0@tumblr.com   Male  Human Resources   \n",
       "1   2     Kippar    Saffin        ksaffin1@si.edu   Male  Human Resources   \n",
       "\n",
       "   donations       state shirt_size donation_frequency university      cars  \\\n",
       "0         28    Colorado        3XL             Weekly  McSparran       GMC   \n",
       "1        292  California        2XL               Once   Ferrelli  Chrysler   \n",
       "\n",
       "  second_language Unnamed: 5                 genre  \n",
       "0             NaN       Teal  Comedy|Drama|Musical  \n",
       "1          Pashto      Green                 Drama  "
      ]
     },
     "execution_count": 28,
     "metadata": {},
     "output_type": "execute_result"
    }
   ],
   "source": [
    "inner_join.head(2)"
   ]
  },
  {
   "cell_type": "markdown",
   "id": "54858919",
   "metadata": {},
   "source": [
    "SUM OF DONATION IN EACH DEPARTMENT BY DONATION FREQUENCIES"
   ]
  },
  {
   "cell_type": "code",
   "execution_count": 29,
   "id": "3800cd3b",
   "metadata": {
    "scrolled": false
   },
   "outputs": [
    {
     "data": {
      "text/plain": [
       "job_field                 donation_frequency\n",
       "Accounting                Monthly               4610\n",
       "                          Once                  7257\n",
       "                          Weekly                5659\n",
       "                          Yearly                2978\n",
       "Business Development      Monthly               4529\n",
       "                          Once                  7293\n",
       "                          Weekly                3990\n",
       "                          Yearly                6454\n",
       "Engineering               Monthly               5263\n",
       "                          Once                  4280\n",
       "                          Weekly                6902\n",
       "                          Yearly                5523\n",
       "Human Resources           Monthly               6906\n",
       "                          Once                  3903\n",
       "                          Weekly                4817\n",
       "                          Yearly                7434\n",
       "Legal                     Monthly               3595\n",
       "                          Once                  5676\n",
       "                          Weekly                3480\n",
       "                          Yearly                4558\n",
       "Marketing                 Monthly               2998\n",
       "                          Once                  3988\n",
       "                          Weekly                5576\n",
       "                          Yearly                5693\n",
       "Product Management        Monthly               5382\n",
       "                          Once                  7129\n",
       "                          Weekly                4903\n",
       "                          Yearly                5384\n",
       "Research and Development  Monthly               6110\n",
       "                          Once                  3193\n",
       "                          Weekly                5030\n",
       "                          Yearly                8529\n",
       "Sales                     Monthly               6527\n",
       "                          Once                  4500\n",
       "                          Weekly                3908\n",
       "                          Yearly                4074\n",
       "Services                  Monthly               4652\n",
       "                          Once                  4391\n",
       "                          Weekly                4135\n",
       "                          Yearly                6680\n",
       "Support                   Monthly               4449\n",
       "                          Once                  6296\n",
       "                          Weekly                5099\n",
       "                          Yearly                3631\n",
       "Training                  Monthly               4659\n",
       "                          Once                  6680\n",
       "                          Weekly                5653\n",
       "                          Yearly                4729\n",
       "Name: donations, dtype: int64"
      ]
     },
     "execution_count": 29,
     "metadata": {},
     "output_type": "execute_result"
    }
   ],
   "source": [
    "inner_join.groupby(['job_field','donation_frequency']).donations.sum()"
   ]
  },
  {
   "cell_type": "markdown",
   "id": "bcacb8b8",
   "metadata": {},
   "source": [
    "count OF DONATION IN EACH DEPARTMENT BY DONATION FREQUENCIES"
   ]
  },
  {
   "cell_type": "code",
   "execution_count": 33,
   "id": "dc93ddfb",
   "metadata": {
    "scrolled": true
   },
   "outputs": [
    {
     "data": {
      "text/plain": [
       "job_field                 donation_frequency\n",
       "Accounting                Monthly               20\n",
       "                          Once                  27\n",
       "                          Weekly                21\n",
       "                          Yearly                12\n",
       "Business Development      Monthly               16\n",
       "                          Once                  31\n",
       "                          Weekly                20\n",
       "                          Yearly                27\n",
       "Engineering               Monthly               22\n",
       "                          Once                  21\n",
       "                          Weekly                27\n",
       "                          Yearly                23\n",
       "Human Resources           Monthly               22\n",
       "                          Once                  19\n",
       "                          Weekly                24\n",
       "                          Yearly                28\n",
       "Legal                     Monthly               16\n",
       "                          Once                  22\n",
       "                          Weekly                11\n",
       "                          Yearly                17\n",
       "Marketing                 Monthly               14\n",
       "                          Once                  18\n",
       "                          Weekly                23\n",
       "                          Yearly                19\n",
       "Product Management        Monthly               21\n",
       "                          Once                  28\n",
       "                          Weekly                18\n",
       "                          Yearly                23\n",
       "Research and Development  Monthly               25\n",
       "                          Once                  14\n",
       "                          Weekly                17\n",
       "                          Yearly                28\n",
       "Sales                     Monthly               22\n",
       "                          Once                  21\n",
       "                          Weekly                20\n",
       "                          Yearly                20\n",
       "Services                  Monthly               21\n",
       "                          Once                  15\n",
       "                          Weekly                19\n",
       "                          Yearly                25\n",
       "Support                   Monthly               18\n",
       "                          Once                  23\n",
       "                          Weekly                20\n",
       "                          Yearly                18\n",
       "Training                  Monthly               15\n",
       "                          Once                  25\n",
       "                          Weekly                25\n",
       "                          Yearly                19\n",
       "Name: donations, dtype: int64"
      ]
     },
     "execution_count": 33,
     "metadata": {},
     "output_type": "execute_result"
    }
   ],
   "source": [
    "inner_join.groupby(['job_field','donation_frequency']).donations.count()\n"
   ]
  },
  {
   "cell_type": "markdown",
   "id": "9948473e",
   "metadata": {},
   "source": [
    "List of female donor that donate above 450 without university\n",
    "create new data called male_ncar_uni\n"
   ]
  },
  {
   "cell_type": "code",
   "execution_count": 31,
   "id": "29231b4e",
   "metadata": {},
   "outputs": [],
   "source": [
    "male_Ncar_uni = inner_join[['id', 'gender', 'university', 'job_field', 'state', 'donations' , 'cars', 'donation_frequency']]"
   ]
  },
  {
   "cell_type": "code",
   "execution_count": 32,
   "id": "475c1034",
   "metadata": {
    "scrolled": true
   },
   "outputs": [
    {
     "data": {
      "text/html": [
       "<div>\n",
       "<style scoped>\n",
       "    .dataframe tbody tr th:only-of-type {\n",
       "        vertical-align: middle;\n",
       "    }\n",
       "\n",
       "    .dataframe tbody tr th {\n",
       "        vertical-align: top;\n",
       "    }\n",
       "\n",
       "    .dataframe thead th {\n",
       "        text-align: right;\n",
       "    }\n",
       "</style>\n",
       "<table border=\"1\" class=\"dataframe\">\n",
       "  <thead>\n",
       "    <tr style=\"text-align: right;\">\n",
       "      <th></th>\n",
       "      <th>id</th>\n",
       "      <th>gender</th>\n",
       "      <th>university</th>\n",
       "      <th>job_field</th>\n",
       "      <th>state</th>\n",
       "      <th>donations</th>\n",
       "      <th>cars</th>\n",
       "      <th>donation_frequency</th>\n",
       "    </tr>\n",
       "  </thead>\n",
       "  <tbody>\n",
       "    <tr>\n",
       "      <th>15</th>\n",
       "      <td>16</td>\n",
       "      <td>Female</td>\n",
       "      <td>NaN</td>\n",
       "      <td>Engineering</td>\n",
       "      <td>Texas</td>\n",
       "      <td>468</td>\n",
       "      <td>NaN</td>\n",
       "      <td>Weekly</td>\n",
       "    </tr>\n",
       "    <tr>\n",
       "      <th>23</th>\n",
       "      <td>24</td>\n",
       "      <td>Female</td>\n",
       "      <td>NaN</td>\n",
       "      <td>Business Development</td>\n",
       "      <td>Wisconsin</td>\n",
       "      <td>453</td>\n",
       "      <td>Nissan</td>\n",
       "      <td>Weekly</td>\n",
       "    </tr>\n",
       "    <tr>\n",
       "      <th>31</th>\n",
       "      <td>32</td>\n",
       "      <td>Female</td>\n",
       "      <td>NaN</td>\n",
       "      <td>Business Development</td>\n",
       "      <td>California</td>\n",
       "      <td>467</td>\n",
       "      <td>Nissan</td>\n",
       "      <td>Once</td>\n",
       "    </tr>\n",
       "    <tr>\n",
       "      <th>283</th>\n",
       "      <td>284</td>\n",
       "      <td>Female</td>\n",
       "      <td>NaN</td>\n",
       "      <td>Legal</td>\n",
       "      <td>Pennsylvania</td>\n",
       "      <td>483</td>\n",
       "      <td>Mazda</td>\n",
       "      <td>Monthly</td>\n",
       "    </tr>\n",
       "    <tr>\n",
       "      <th>289</th>\n",
       "      <td>290</td>\n",
       "      <td>Female</td>\n",
       "      <td>NaN</td>\n",
       "      <td>Business Development</td>\n",
       "      <td>Florida</td>\n",
       "      <td>492</td>\n",
       "      <td>Ford</td>\n",
       "      <td>Weekly</td>\n",
       "    </tr>\n",
       "    <tr>\n",
       "      <th>292</th>\n",
       "      <td>293</td>\n",
       "      <td>Female</td>\n",
       "      <td>NaN</td>\n",
       "      <td>Support</td>\n",
       "      <td>Pennsylvania</td>\n",
       "      <td>462</td>\n",
       "      <td>Mercedes-Benz</td>\n",
       "      <td>Monthly</td>\n",
       "    </tr>\n",
       "    <tr>\n",
       "      <th>321</th>\n",
       "      <td>322</td>\n",
       "      <td>Female</td>\n",
       "      <td>NaN</td>\n",
       "      <td>Training</td>\n",
       "      <td>Indiana</td>\n",
       "      <td>473</td>\n",
       "      <td>Nissan</td>\n",
       "      <td>Yearly</td>\n",
       "    </tr>\n",
       "    <tr>\n",
       "      <th>445</th>\n",
       "      <td>446</td>\n",
       "      <td>Female</td>\n",
       "      <td>NaN</td>\n",
       "      <td>Accounting</td>\n",
       "      <td>Michigan</td>\n",
       "      <td>468</td>\n",
       "      <td>Pontiac</td>\n",
       "      <td>Once</td>\n",
       "    </tr>\n",
       "    <tr>\n",
       "      <th>597</th>\n",
       "      <td>598</td>\n",
       "      <td>Female</td>\n",
       "      <td>NaN</td>\n",
       "      <td>Research and Development</td>\n",
       "      <td>Virginia</td>\n",
       "      <td>482</td>\n",
       "      <td>Hummer</td>\n",
       "      <td>Yearly</td>\n",
       "    </tr>\n",
       "    <tr>\n",
       "      <th>675</th>\n",
       "      <td>676</td>\n",
       "      <td>Female</td>\n",
       "      <td>NaN</td>\n",
       "      <td>Research and Development</td>\n",
       "      <td>Iowa</td>\n",
       "      <td>461</td>\n",
       "      <td>NaN</td>\n",
       "      <td>Once</td>\n",
       "    </tr>\n",
       "    <tr>\n",
       "      <th>785</th>\n",
       "      <td>786</td>\n",
       "      <td>Female</td>\n",
       "      <td>NaN</td>\n",
       "      <td>Product Management</td>\n",
       "      <td>Tennessee</td>\n",
       "      <td>476</td>\n",
       "      <td>Rolls-Royce</td>\n",
       "      <td>Weekly</td>\n",
       "    </tr>\n",
       "    <tr>\n",
       "      <th>876</th>\n",
       "      <td>877</td>\n",
       "      <td>Female</td>\n",
       "      <td>NaN</td>\n",
       "      <td>Engineering</td>\n",
       "      <td>Arkansas</td>\n",
       "      <td>480</td>\n",
       "      <td>Nissan</td>\n",
       "      <td>Monthly</td>\n",
       "    </tr>\n",
       "    <tr>\n",
       "      <th>986</th>\n",
       "      <td>987</td>\n",
       "      <td>Female</td>\n",
       "      <td>NaN</td>\n",
       "      <td>Marketing</td>\n",
       "      <td>Indiana</td>\n",
       "      <td>455</td>\n",
       "      <td>Suzuki</td>\n",
       "      <td>Weekly</td>\n",
       "    </tr>\n",
       "  </tbody>\n",
       "</table>\n",
       "</div>"
      ],
      "text/plain": [
       "      id  gender university                 job_field         state  \\\n",
       "15    16  Female        NaN               Engineering         Texas   \n",
       "23    24  Female        NaN      Business Development     Wisconsin   \n",
       "31    32  Female        NaN      Business Development    California   \n",
       "283  284  Female        NaN                     Legal  Pennsylvania   \n",
       "289  290  Female        NaN      Business Development       Florida   \n",
       "292  293  Female        NaN                   Support  Pennsylvania   \n",
       "321  322  Female        NaN                  Training       Indiana   \n",
       "445  446  Female        NaN                Accounting      Michigan   \n",
       "597  598  Female        NaN  Research and Development      Virginia   \n",
       "675  676  Female        NaN  Research and Development          Iowa   \n",
       "785  786  Female        NaN        Product Management     Tennessee   \n",
       "876  877  Female        NaN               Engineering      Arkansas   \n",
       "986  987  Female        NaN                 Marketing       Indiana   \n",
       "\n",
       "     donations           cars donation_frequency  \n",
       "15         468            NaN             Weekly  \n",
       "23         453         Nissan             Weekly  \n",
       "31         467         Nissan               Once  \n",
       "283        483          Mazda            Monthly  \n",
       "289        492           Ford             Weekly  \n",
       "292        462  Mercedes-Benz            Monthly  \n",
       "321        473         Nissan             Yearly  \n",
       "445        468        Pontiac               Once  \n",
       "597        482         Hummer             Yearly  \n",
       "675        461            NaN               Once  \n",
       "785        476    Rolls-Royce             Weekly  \n",
       "876        480         Nissan            Monthly  \n",
       "986        455         Suzuki             Weekly  "
      ]
     },
     "execution_count": 32,
     "metadata": {},
     "output_type": "execute_result"
    }
   ],
   "source": [
    "male_Ncar_uni[(male_Ncar_uni.donations > 450) & (male_Ncar_uni.gender == 'Female') & (male_Ncar_uni['university'].isna())]\n"
   ]
  },
  {
   "cell_type": "markdown",
   "id": "1c71f145",
   "metadata": {},
   "source": [
    "List of male donor that donate above 450 without university\n"
   ]
  },
  {
   "cell_type": "code",
   "execution_count": 33,
   "id": "50f20488",
   "metadata": {},
   "outputs": [
    {
     "data": {
      "text/html": [
       "<div>\n",
       "<style scoped>\n",
       "    .dataframe tbody tr th:only-of-type {\n",
       "        vertical-align: middle;\n",
       "    }\n",
       "\n",
       "    .dataframe tbody tr th {\n",
       "        vertical-align: top;\n",
       "    }\n",
       "\n",
       "    .dataframe thead th {\n",
       "        text-align: right;\n",
       "    }\n",
       "</style>\n",
       "<table border=\"1\" class=\"dataframe\">\n",
       "  <thead>\n",
       "    <tr style=\"text-align: right;\">\n",
       "      <th></th>\n",
       "      <th>id</th>\n",
       "      <th>gender</th>\n",
       "      <th>university</th>\n",
       "      <th>job_field</th>\n",
       "      <th>state</th>\n",
       "      <th>donations</th>\n",
       "      <th>cars</th>\n",
       "      <th>donation_frequency</th>\n",
       "    </tr>\n",
       "  </thead>\n",
       "  <tbody>\n",
       "    <tr>\n",
       "      <th>101</th>\n",
       "      <td>102</td>\n",
       "      <td>Male</td>\n",
       "      <td>NaN</td>\n",
       "      <td>Engineering</td>\n",
       "      <td>Missouri</td>\n",
       "      <td>463</td>\n",
       "      <td>Suzuki</td>\n",
       "      <td>Weekly</td>\n",
       "    </tr>\n",
       "    <tr>\n",
       "      <th>126</th>\n",
       "      <td>127</td>\n",
       "      <td>Male</td>\n",
       "      <td>NaN</td>\n",
       "      <td>Human Resources</td>\n",
       "      <td>Tennessee</td>\n",
       "      <td>480</td>\n",
       "      <td>Mercedes-Benz</td>\n",
       "      <td>Monthly</td>\n",
       "    </tr>\n",
       "    <tr>\n",
       "      <th>190</th>\n",
       "      <td>191</td>\n",
       "      <td>Male</td>\n",
       "      <td>NaN</td>\n",
       "      <td>Legal</td>\n",
       "      <td>Mississippi</td>\n",
       "      <td>467</td>\n",
       "      <td>NaN</td>\n",
       "      <td>Weekly</td>\n",
       "    </tr>\n",
       "    <tr>\n",
       "      <th>473</th>\n",
       "      <td>474</td>\n",
       "      <td>Male</td>\n",
       "      <td>NaN</td>\n",
       "      <td>Services</td>\n",
       "      <td>Texas</td>\n",
       "      <td>462</td>\n",
       "      <td>Buick</td>\n",
       "      <td>Weekly</td>\n",
       "    </tr>\n",
       "    <tr>\n",
       "      <th>600</th>\n",
       "      <td>601</td>\n",
       "      <td>Male</td>\n",
       "      <td>NaN</td>\n",
       "      <td>Marketing</td>\n",
       "      <td>Kentucky</td>\n",
       "      <td>458</td>\n",
       "      <td>NaN</td>\n",
       "      <td>Once</td>\n",
       "    </tr>\n",
       "    <tr>\n",
       "      <th>603</th>\n",
       "      <td>604</td>\n",
       "      <td>Male</td>\n",
       "      <td>NaN</td>\n",
       "      <td>Research and Development</td>\n",
       "      <td>Virginia</td>\n",
       "      <td>469</td>\n",
       "      <td>Dodge</td>\n",
       "      <td>Weekly</td>\n",
       "    </tr>\n",
       "    <tr>\n",
       "      <th>930</th>\n",
       "      <td>931</td>\n",
       "      <td>Male</td>\n",
       "      <td>NaN</td>\n",
       "      <td>Product Management</td>\n",
       "      <td>Illinois</td>\n",
       "      <td>488</td>\n",
       "      <td>NaN</td>\n",
       "      <td>Once</td>\n",
       "    </tr>\n",
       "    <tr>\n",
       "      <th>940</th>\n",
       "      <td>941</td>\n",
       "      <td>Male</td>\n",
       "      <td>NaN</td>\n",
       "      <td>Business Development</td>\n",
       "      <td>Louisiana</td>\n",
       "      <td>493</td>\n",
       "      <td>Chevrolet</td>\n",
       "      <td>Yearly</td>\n",
       "    </tr>\n",
       "    <tr>\n",
       "      <th>945</th>\n",
       "      <td>946</td>\n",
       "      <td>Male</td>\n",
       "      <td>NaN</td>\n",
       "      <td>Sales</td>\n",
       "      <td>Arkansas</td>\n",
       "      <td>484</td>\n",
       "      <td>Ford</td>\n",
       "      <td>Weekly</td>\n",
       "    </tr>\n",
       "    <tr>\n",
       "      <th>969</th>\n",
       "      <td>970</td>\n",
       "      <td>Male</td>\n",
       "      <td>NaN</td>\n",
       "      <td>Sales</td>\n",
       "      <td>Ohio</td>\n",
       "      <td>452</td>\n",
       "      <td>Lamborghini</td>\n",
       "      <td>Weekly</td>\n",
       "    </tr>\n",
       "  </tbody>\n",
       "</table>\n",
       "</div>"
      ],
      "text/plain": [
       "      id gender university                 job_field        state  donations  \\\n",
       "101  102   Male        NaN               Engineering     Missouri        463   \n",
       "126  127   Male        NaN           Human Resources    Tennessee        480   \n",
       "190  191   Male        NaN                     Legal  Mississippi        467   \n",
       "473  474   Male        NaN                  Services        Texas        462   \n",
       "600  601   Male        NaN                 Marketing     Kentucky        458   \n",
       "603  604   Male        NaN  Research and Development     Virginia        469   \n",
       "930  931   Male        NaN        Product Management     Illinois        488   \n",
       "940  941   Male        NaN      Business Development    Louisiana        493   \n",
       "945  946   Male        NaN                     Sales     Arkansas        484   \n",
       "969  970   Male        NaN                     Sales         Ohio        452   \n",
       "\n",
       "              cars donation_frequency  \n",
       "101         Suzuki             Weekly  \n",
       "126  Mercedes-Benz            Monthly  \n",
       "190            NaN             Weekly  \n",
       "473          Buick             Weekly  \n",
       "600            NaN               Once  \n",
       "603          Dodge             Weekly  \n",
       "930            NaN               Once  \n",
       "940      Chevrolet             Yearly  \n",
       "945           Ford             Weekly  \n",
       "969    Lamborghini             Weekly  "
      ]
     },
     "execution_count": 33,
     "metadata": {},
     "output_type": "execute_result"
    }
   ],
   "source": [
    "male_Ncar_uni[(male_Ncar_uni.donations > 450) & (male_Ncar_uni.gender == 'Male') & (male_Ncar_uni['university'].isna())]\n"
   ]
  },
  {
   "cell_type": "markdown",
   "id": "fffa8fb2",
   "metadata": {},
   "source": [
    "FEMALE NO CARS NO UNI"
   ]
  },
  {
   "cell_type": "code",
   "execution_count": 34,
   "id": "1d854128",
   "metadata": {
    "scrolled": true
   },
   "outputs": [
    {
     "data": {
      "text/html": [
       "<div>\n",
       "<style scoped>\n",
       "    .dataframe tbody tr th:only-of-type {\n",
       "        vertical-align: middle;\n",
       "    }\n",
       "\n",
       "    .dataframe tbody tr th {\n",
       "        vertical-align: top;\n",
       "    }\n",
       "\n",
       "    .dataframe thead th {\n",
       "        text-align: right;\n",
       "    }\n",
       "</style>\n",
       "<table border=\"1\" class=\"dataframe\">\n",
       "  <thead>\n",
       "    <tr style=\"text-align: right;\">\n",
       "      <th></th>\n",
       "      <th>id</th>\n",
       "      <th>gender</th>\n",
       "      <th>university</th>\n",
       "      <th>job_field</th>\n",
       "      <th>state</th>\n",
       "      <th>donations</th>\n",
       "      <th>cars</th>\n",
       "      <th>donation_frequency</th>\n",
       "    </tr>\n",
       "  </thead>\n",
       "  <tbody>\n",
       "    <tr>\n",
       "      <th>15</th>\n",
       "      <td>16</td>\n",
       "      <td>Female</td>\n",
       "      <td>NaN</td>\n",
       "      <td>Engineering</td>\n",
       "      <td>Texas</td>\n",
       "      <td>468</td>\n",
       "      <td>NaN</td>\n",
       "      <td>Weekly</td>\n",
       "    </tr>\n",
       "    <tr>\n",
       "      <th>675</th>\n",
       "      <td>676</td>\n",
       "      <td>Female</td>\n",
       "      <td>NaN</td>\n",
       "      <td>Research and Development</td>\n",
       "      <td>Iowa</td>\n",
       "      <td>461</td>\n",
       "      <td>NaN</td>\n",
       "      <td>Once</td>\n",
       "    </tr>\n",
       "  </tbody>\n",
       "</table>\n",
       "</div>"
      ],
      "text/plain": [
       "      id  gender university                 job_field  state  donations cars  \\\n",
       "15    16  Female        NaN               Engineering  Texas        468  NaN   \n",
       "675  676  Female        NaN  Research and Development   Iowa        461  NaN   \n",
       "\n",
       "    donation_frequency  \n",
       "15              Weekly  \n",
       "675               Once  "
      ]
     },
     "execution_count": 34,
     "metadata": {},
     "output_type": "execute_result"
    }
   ],
   "source": [
    "male_Ncar_uni[(male_Ncar_uni.donations > 450) & (male_Ncar_uni.gender == 'Female') & (male_Ncar_uni['cars'].isna())& (male_Ncar_uni['university'].isna())]\n"
   ]
  },
  {
   "cell_type": "markdown",
   "id": "c9769358",
   "metadata": {},
   "source": [
    "MALE NO CARS NO UNI"
   ]
  },
  {
   "cell_type": "code",
   "execution_count": 74,
   "id": "7b9c81b7",
   "metadata": {
    "scrolled": true
   },
   "outputs": [
    {
     "data": {
      "text/html": [
       "<div>\n",
       "<style scoped>\n",
       "    .dataframe tbody tr th:only-of-type {\n",
       "        vertical-align: middle;\n",
       "    }\n",
       "\n",
       "    .dataframe tbody tr th {\n",
       "        vertical-align: top;\n",
       "    }\n",
       "\n",
       "    .dataframe thead th {\n",
       "        text-align: right;\n",
       "    }\n",
       "</style>\n",
       "<table border=\"1\" class=\"dataframe\">\n",
       "  <thead>\n",
       "    <tr style=\"text-align: right;\">\n",
       "      <th></th>\n",
       "      <th>id</th>\n",
       "      <th>gender</th>\n",
       "      <th>university</th>\n",
       "      <th>job_field</th>\n",
       "      <th>state</th>\n",
       "      <th>donations</th>\n",
       "      <th>cars</th>\n",
       "      <th>donation_frequency</th>\n",
       "    </tr>\n",
       "  </thead>\n",
       "  <tbody>\n",
       "    <tr>\n",
       "      <th>190</th>\n",
       "      <td>191</td>\n",
       "      <td>Male</td>\n",
       "      <td>NaN</td>\n",
       "      <td>Legal</td>\n",
       "      <td>Mississippi</td>\n",
       "      <td>467</td>\n",
       "      <td>NaN</td>\n",
       "      <td>Weekly</td>\n",
       "    </tr>\n",
       "    <tr>\n",
       "      <th>600</th>\n",
       "      <td>601</td>\n",
       "      <td>Male</td>\n",
       "      <td>NaN</td>\n",
       "      <td>Marketing</td>\n",
       "      <td>Kentucky</td>\n",
       "      <td>458</td>\n",
       "      <td>NaN</td>\n",
       "      <td>Once</td>\n",
       "    </tr>\n",
       "    <tr>\n",
       "      <th>930</th>\n",
       "      <td>931</td>\n",
       "      <td>Male</td>\n",
       "      <td>NaN</td>\n",
       "      <td>Product Management</td>\n",
       "      <td>Illinois</td>\n",
       "      <td>488</td>\n",
       "      <td>NaN</td>\n",
       "      <td>Once</td>\n",
       "    </tr>\n",
       "  </tbody>\n",
       "</table>\n",
       "</div>"
      ],
      "text/plain": [
       "      id gender university           job_field        state  donations cars  \\\n",
       "190  191   Male        NaN               Legal  Mississippi        467  NaN   \n",
       "600  601   Male        NaN           Marketing     Kentucky        458  NaN   \n",
       "930  931   Male        NaN  Product Management     Illinois        488  NaN   \n",
       "\n",
       "    donation_frequency  \n",
       "190             Weekly  \n",
       "600               Once  \n",
       "930               Once  "
      ]
     },
     "execution_count": 74,
     "metadata": {},
     "output_type": "execute_result"
    }
   ],
   "source": [
    "male_Ncar_uni[(male_Ncar_uni.donations > 450) & (male_Ncar_uni.gender == 'Male') & (male_Ncar_uni['cars'].isna())& (inner_join['university'].isna())]\n"
   ]
  },
  {
   "cell_type": "markdown",
   "id": "d539c994",
   "metadata": {},
   "source": [
    "COUNT OF MALE DONOR FROM EACH DEPARTMENT/FEMALE\n"
   ]
  },
  {
   "cell_type": "code",
   "execution_count": 91,
   "id": "5dfe627d",
   "metadata": {
    "scrolled": true
   },
   "outputs": [
    {
     "data": {
      "text/plain": [
       "<AxesSubplot:xlabel='gender,job_field'>"
      ]
     },
     "execution_count": 91,
     "metadata": {},
     "output_type": "execute_result"
    },
    {
     "data": {
      "image/png": "[encoded data removed]",
      "text/plain": [
       "<Figure size 432x288 with 1 Axes>"
      ]
     },
     "metadata": {
      "needs_background": "light"
     },
     "output_type": "display_data"
    }
   ],
   "source": [
    "male_Ncar_uni.groupby([male_Ncar_uni.gender == 'Male',male_Ncar_uni.job_field]).donations.count().plot(kind='bar')"
   ]
  },
  {
   "cell_type": "code",
   "execution_count": 2,
   "id": "2dc9190e",
   "metadata": {},
   "outputs": [
    {
     "data": {
      "image/png": "[encoded data removed]",
      "text/plain": [
       "<Figure size 432x288 with 1 Axes>"
      ]
     },
     "metadata": {},
     "output_type": "display_data"
    },
    {
     "name": "stderr",
     "output_type": "stream",
     "text": [
      "No artists with labels found to put in legend.  Note that artists whose label start with an underscore are ignored when legend() is called with no argument.\n"
     ]
    },
    {
     "data": {
      "text/plain": [
       "<matplotlib.legend.Legend at 0x2e89c665370>"
      ]
     },
     "execution_count": 2,
     "metadata": {},
     "output_type": "execute_result"
    },
    {
     "data": {
      "image/png": "[encoded data removed]",
      "text/plain": [
       "<Figure size 432x288 with 1 Axes>"
      ]
     },
     "metadata": {
      "needs_background": "light"
     },
     "output_type": "display_data"
    }
   ],
   "source": [
    "data = [15, 25, 25, 30, 5]\n",
    "labels = ['Group 1', 'Group 2', 'Group 3', 'Group 4', 'Group 5']\n",
    "\n",
    "#define Seaborn color palette to use\n",
    "colors = snb.color_palette('bright')[0:5]\n",
    "\n",
    "#create pie chart\n",
    "plt.pie(data, labels = labels, colors = colors, autopct='%.0f%%')\n",
    "plt.show()\n",
    "plt.legend()"
   ]
  },
  {
   "cell_type": "code",
   "execution_count": 21,
   "id": "90b2bc9d",
   "metadata": {
    "scrolled": true
   },
   "outputs": [
    {
     "data": {
      "image/png": "[encoded data removed]",
      "text/plain": [
       "<Figure size 432x288 with 1 Axes>"
      ]
     },
     "metadata": {},
     "output_type": "display_data"
    }
   ],
   "source": [
    "donations = [121457, 127628]\n",
    "labels= ['Female', 'Male']\n",
    "\n",
    "colors = snb.color_palette('pastel')[0:2]\n",
    "x=plt.pie(donations, labels = labels, colors = colors, autopct='%.0f%%', radius=1.5)\n",
    "x=plt.legend(loc = 'lower right')\n",
    "x.figure.savefig('gender.jpg')"
   ]
  },
  {
   "cell_type": "code",
   "execution_count": 41,
   "id": "c1f9d993",
   "metadata": {
    "scrolled": true
   },
   "outputs": [
    {
     "data": {
      "image/png": "[encoded data removed]",
      "text/plain": [
       "<Figure size 432x288 with 1 Axes>"
      ]
     },
     "metadata": {},
     "output_type": "display_data"
    }
   ],
   "source": [
    "\n",
    "\n",
    "\n",
    "labels =['Human Resources', 'Research and Development','Product Management','Business Development',\n",
    "         'Engineering', 'Training', 'Accountion', 'Services', 'Support', 'Sales',  'Marketing','Legal']\n",
    "\n",
    "donations =[23060, 22862, 22798, 22266, 21968, 21721, 20504, 19858, 19475, 19009, 18255, 17309]\n",
    "\n",
    "colors = snb.color_palette('pastel')[0:12]\n",
    "plt.pie(donations, labels = labels, colors = colors, autopct='%00.01f%%',radius=1.5)\n",
    "#plt.legend(loc = 'right')\n",
    "\n",
    "#plt.title('Total_amount_donated', font = 'up left')\n",
    "#x=plt.show()\n",
    "\n",
    "plt.savefig('mypicnew.jpg')\n",
    "\n",
    "\n"
   ]
  },
  {
   "cell_type": "code",
   "execution_count": null,
   "id": "a06c0997",
   "metadata": {},
   "outputs": [],
   "source": [
    "#create horizontal barplot\n",
    "p = sns.barplot(x=\"tip\", y=\"day\", data=data, ci=None)\n",
    "\n",
    "#show values on barplot\n",
    "show_values(p, \"h\", space=0)\n"
   ]
  },
  {
   "cell_type": "code",
   "execution_count": 117,
   "id": "2c876c4a",
   "metadata": {},
   "outputs": [
    {
     "name": "stdout",
     "output_type": "stream",
     "text": [
      "job_field\n",
      "Human Resources             23060\n",
      "Research and Development    22862\n",
      "Product Management          22798\n",
      "Business Development        22266\n",
      "Engineering                 21968\n",
      "Training                    21721\n",
      "Accounting                  20504\n",
      "Services                    19858\n",
      "Support                     19475\n",
      "Sales                       19009\n",
      "Marketing                   18255\n",
      "Legal                       17309\n",
      "Name: donations, dtype: int64\n"
     ]
    }
   ],
   "source": [
    "Total_amount_donated=dd.groupby('job_field')['donations'].sum().sort_values(ascending =False)\n",
    "print(Total_amount_donated)"
   ]
  },
  {
   "cell_type": "code",
   "execution_count": 39,
   "id": "33c3182e",
   "metadata": {
    "scrolled": true
   },
   "outputs": [
    {
     "data": {
      "text/plain": [
       "<AxesSubplot:xlabel='job_field'>"
      ]
     },
     "execution_count": 39,
     "metadata": {},
     "output_type": "execute_result"
    },
    {
     "data": {
      "image/png": "[encoded data removed]",
      "text/plain": [
       "<Figure size 432x288 with 1 Axes>"
      ]
     },
     "metadata": {
      "needs_background": "light"
     },
     "output_type": "display_data"
    }
   ],
   "source": [
    "dd.groupby('job_field')['donations'].sum().sort_values(ascending =False).plot(kind = 'bar', fill= 'job_field', label = True)"
   ]
  },
  {
   "cell_type": "code",
   "execution_count": null,
   "id": "83e9c474",
   "metadata": {},
   "outputs": [],
   "source": []
  }
 ],
 "metadata": {
  "kernelspec": {
   "display_name": "Python 3 (ipykernel)",
   "language": "python",
   "name": "python3"
  },
  "language_info": {
   "codemirror_mode": {
    "name": "ipython",
    "version": 3
   },
   "file_extension": ".py",
   "mimetype": "text/x-python",
   "name": "python",
   "nbconvert_exporter": "python",
   "pygments_lexer": "ipython3",
   "version": "3.9.12"
  }
 },
 "nbformat": 4,
 "nbformat_minor": 5
}
